{
 "cells": [
  {
   "cell_type": "markdown",
   "metadata": {},
   "source": [
    "## CSV에서 장르정보를 받아와서 리스트 생성"
   ]
  },
  {
   "cell_type": "code",
   "execution_count": null,
   "metadata": {},
   "outputs": [],
   "source": [
    "import os\n",
    "import pandas as pd\n",
    "import numpy as np\n",
    "\n",
    "csv_data = pd.read_csv('labeled.csv')\n",
    "\n",
    "print(csv_data.columns)\n",
    "\n",
    "genre_list = pd.Categorical(csv_data[\"genre_top\"])\n",
    "genre_list = genre_list.categories"
   ]
  },
  {
   "cell_type": "markdown",
   "metadata": {},
   "source": [
    "## 리스트를 이용해서 장르이름으로 폴더 생성"
   ]
  },
  {
   "cell_type": "code",
   "execution_count": null,
   "metadata": {
    "scrolled": true
   },
   "outputs": [],
   "source": [
    "cwd = os.getcwd()\n",
    "if(not os.path.isdir(cwd + '/data')):\n",
    "    os.mkdir(cwd + '/data')\n",
    "\n",
    "for i in genre_list:\n",
    "    if(not os.path.isdir(cwd + '/data/' + i)):\n",
    "        os.mkdir(cwd + '/data/' + i)\n",
    "        \n",
    "print(os.listdir(cwd+'/data')) #폴더 확인"
   ]
  },
  {
   "cell_type": "code",
   "execution_count": null,
   "metadata": {},
   "outputs": [],
   "source": [
    "csv_data"
   ]
  },
  {
   "cell_type": "code",
   "execution_count": null,
   "metadata": {},
   "outputs": [],
   "source": [
    "for data in csv_data.values:\n",
    "    print(\"file_name : \" + str(data[2]).zfill(3))\n",
    "    print(\"genre_name : \" + str(data[3]))\n",
    "    break"
   ]
  },
  {
   "cell_type": "markdown",
   "metadata": {},
   "source": [
    "## .mp3 -> .wav\n",
    "#### 필요 lib 및 tool\n",
    "\n",
    "#### librosa 설치 명령어\n",
    "\n",
    "<li>conda install -c conda-forge librosa</li>\n",
    "\n",
    "#### pydub 설치 명령어\n",
    "<li>pip install pydub</li>"
   ]
  },
  {
   "cell_type": "markdown",
   "metadata": {},
   "source": [
    "### 에러 원인\n",
    "환경변수 설정 시 cmd에만 적용되기 때문에 anconda prompt에서 실행 시 ffmpeg를 인식 하지 못하기 때문에 에러가 발생"
   ]
  },
  {
   "cell_type": "code",
   "execution_count": null,
   "metadata": {
    "scrolled": true
   },
   "outputs": [],
   "source": [
    "!dir"
   ]
  },
  {
   "cell_type": "code",
   "execution_count": null,
   "metadata": {},
   "outputs": [],
   "source": [
    "import pydub\n",
    "from pydub import AudioSegment\n",
    "pydub.AudioSegment.converter = \"C:/ffmpeg/bin/ffmpeg.exe\"\n",
    "# song = AudioSegment.from_mp3(\"SampleAudio.mp3\")\n",
    "# song.export('output.wav', format='wav')"
   ]
  },
  {
   "cell_type": "markdown",
   "metadata": {},
   "source": [
    "### 파일 형식\n",
    "example 000002.mp3 <br>\n",
    "000/002.mp3<br>\n",
    "000 : 폴더이름<br>\n",
    "002 : csv_data[\"track_id\"]를 3자리 표현"
   ]
  },
  {
   "cell_type": "code",
   "execution_count": null,
   "metadata": {
    "scrolled": true
   },
   "outputs": [],
   "source": [
    "cwd = os.getcwd()\n",
    "cwd += \"\\data\"\n",
    "print(cwd)"
   ]
  },
  {
   "cell_type": "code",
   "execution_count": null,
   "metadata": {},
   "outputs": [],
   "source": [
    "input_path = \"C:/Users/Playdata/Documents/future_lab_project02/lab_project/fma_small\""
   ]
  },
  {
   "cell_type": "code",
   "execution_count": null,
   "metadata": {
    "scrolled": true
   },
   "outputs": [],
   "source": [
    "folder_name_list = os.listdir(input_path)[:-2] # 마지막 2개 파일은 필요한 파일이 아니기 때문에 제외하고 리스트에 담는다.\n",
    "print(folder_name_list)"
   ]
  },
  {
   "cell_type": "code",
   "execution_count": null,
   "metadata": {
    "scrolled": true
   },
   "outputs": [],
   "source": [
    "count = 0\n",
    "for data in csv_data.values:\n",
    "    file_name = str(data[2] % 1000).zfill(3)\n",
    "    genre_name = str(data[3])\n",
    "    input_folder_name = str(data[2] // 1000).zfill(3)\n",
    "#     print(\"file_name : \"+ input_folder_name + file_name + '.mp3')\n",
    "#     print(\"genre_name : \" + genre_name)\n",
    "#     print(\"input_folder_name : \" + input_folder_name)\n",
    "    except_list = ['099134', '108925', '133297']\n",
    "    if(input_folder_name + file_name in except_list):\n",
    "        continue\n",
    "    if(not os.path.isfile(cwd + \"/\" + genre_name  + \"/\"  + input_folder_name + file_name + \".wav\")):\n",
    "        input_data = AudioSegment.from_mp3(input_path + \"/\" + input_folder_name + \"/\" + input_folder_name + file_name + \".mp3\")\n",
    "        input_data.export(cwd + \"/\" + genre_name  + \"/\" + input_folder_name + file_name + '.wav', format='wav')\n",
    "        count +=1\n",
    "    print(count)"
   ]
  },
  {
   "cell_type": "markdown",
   "metadata": {},
   "source": [
    "099134.mp3 <br>\n",
    "    108925.mp3 <br>\n",
    "    133297.mp3 <br>\n",
    "    오류 발생 예외처리 함<br>\n",
    "특이 사항으로 파일을 보면 파일 정보가 빠져 있다."
   ]
  },
  {
   "cell_type": "markdown",
   "metadata": {},
   "source": [
    "### .wav -> .jpg\n",
    "librosa를 이용하여 파일 유형 .jpg로 변형"
   ]
  },
  {
   "cell_type": "code",
   "execution_count": null,
   "metadata": {},
   "outputs": [],
   "source": [
    "wav_path = \"C:/Users/Playdata/Documents/future_lab_project02/lab_project/data\""
   ]
  },
  {
   "cell_type": "code",
   "execution_count": null,
   "metadata": {},
   "outputs": [],
   "source": [
    "cwd = os.getcwd()\n",
    "cwd += '/img_data'\n",
    "print(cwd)"
   ]
  },
  {
   "cell_type": "code",
   "execution_count": null,
   "metadata": {},
   "outputs": [],
   "source": [
    "import matplotlib.pyplot as plt\n",
    "import librosa.display\n",
    "import librosa\n",
    "import numpy as np\n",
    "\n",
    "count = 0\n",
    "for data in csv_data.values:\n",
    "    file_name = str(data[2] % 1000).zfill(3)\n",
    "    genre_name = str(data[3])\n",
    "    input_folder_name = str(data[2] // 1000).zfill(3)\n",
    "#     print(\"file_name : \" + file_name)\n",
    "#     print(\"genre_name : \" + genre_name)\n",
    "#     print(\"input_folder_name : \" + input_folder_name)\n",
    "    except_list = ['099134', '108925', '133297']\n",
    "    if(input_folder_name + file_name in except_list):\n",
    "        continue\n",
    "    if(not os.path.isfile(cwd + \"/\" + genre_name  + \"/\" + input_folder_name + file_name + \".jpg\")):\n",
    "        print(genre_name + \"/\" + file_name)\n",
    "        y, sr = librosa.load(wav_path + \"/\" + genre_name + \"/\" + input_folder_name + file_name + \".wav\")\n",
    "        S = librosa.feature.melspectrogram(y, sr=sr, n_mels=128)\n",
    "        plt.figure(figsize=(10, 4))\n",
    "        librosa.display.specshow(librosa.power_to_db(S, ref=np.max), fmax=8000)\n",
    "        plt.savefig(cwd + \"/\" + genre_name  + \"/\" + input_folder_name + file_name + '.jpg')\n",
    "        count += 1\n",
    "    print(count)"
   ]
  },
  {
   "cell_type": "code",
   "execution_count": null,
   "metadata": {},
   "outputs": [],
   "source": []
  }
 ],
 "metadata": {
  "kernelspec": {
   "display_name": "Python 3",
   "language": "python",
   "name": "python3"
  },
  "language_info": {
   "codemirror_mode": {
    "name": "ipython",
    "version": 3
   },
   "file_extension": ".py",
   "mimetype": "text/x-python",
   "name": "python",
   "nbconvert_exporter": "python",
   "pygments_lexer": "ipython3",
   "version": "3.6.4"
  }
 },
 "nbformat": 4,
 "nbformat_minor": 2
}
