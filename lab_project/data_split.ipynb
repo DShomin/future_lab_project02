{
 "cells": [
  {
   "cell_type": "code",
   "execution_count": 2,
   "metadata": {},
   "outputs": [],
   "source": [
    "import pandas\n",
    "import os"
   ]
  },
  {
   "cell_type": "code",
   "execution_count": 3,
   "metadata": {},
   "outputs": [],
   "source": [
    "cwd = os.getcwd()"
   ]
  },
  {
   "cell_type": "code",
   "execution_count": 4,
   "metadata": {},
   "outputs": [
    {
     "name": "stdout",
     "output_type": "stream",
     "text": [
      "C:\\Users\\Playdata\\Documents\\future_lab_project02\\lab_project\n"
     ]
    }
   ],
   "source": [
    "print(cwd)"
   ]
  },
  {
   "cell_type": "code",
   "execution_count": 7,
   "metadata": {},
   "outputs": [
    {
     "name": "stdout",
     "output_type": "stream",
     "text": [
      " C 드라이브의 볼륨에는 이름이 없습니다.\n",
      " 볼륨 일련 번호: 2203-E7BC\n",
      "\n",
      " C:\\Users\\Playdata\\Documents\\future_lab_project02\\lab_project 디렉터리\n",
      "\n",
      "2018-09-14  오후 03:39    <DIR>          .\n",
      "2018-09-14  오후 03:39    <DIR>          ..\n",
      "2018-09-14  오후 03:39    <DIR>          .ipynb_checkpoints\n",
      "2018-08-27  오후 03:24    <DIR>          data\n",
      "2018-08-27  오후 07:50    39,672,251,640 data.zip\n",
      "2018-08-29  오후 12:23           164,221 data_ Pretreatment.ipynb\n",
      "2018-09-14  오후 03:39                72 data_split.ipynb\n",
      "2018-08-23  오후 04:35        63,934,561 ffmpeg-20180821-7e0df59-win64-static.zip\n",
      "2018-08-23  오전 10:06    <DIR>          fma_small\n",
      "2018-08-23  오전 09:36     7,679,594,875 fma_small.zip\n",
      "2018-08-16  오전 08:38         2,086,031 good.csv\n",
      "2018-08-27  오후 02:19    <DIR>          img_data\n",
      "2018-08-27  오후 07:33       917,438,784 img_data.zip\n",
      "2018-08-23  오전 08:51           215,376 labeled.csv\n",
      "2018-08-30  오전 10:15    <DIR>          last_img_data\n",
      "2018-09-13  오전 08:40       701,395,640 last_img_data.zip\n",
      "2018-09-12  오전 08:35    <DIR>          model\n",
      "2018-08-27  오후 04:57         4,893,740 output.wav\n",
      "2018-08-22  오후 08:45           443,926 SampleAudio.mp3\n",
      "2018-08-25  오후 05:12    <DIR>          test\n",
      "2018-08-23  오전 10:20         1,329,803 test.zip\n",
      "2018-08-29  오전 08:48            53,442 test_01.jpg\n",
      "              13개 파일      49,043,802,111 바이트\n",
      "               9개 디렉터리  34,605,838,336 바이트 남음\n"
     ]
    }
   ],
   "source": [
    "!dir"
   ]
  },
  {
   "cell_type": "markdown",
   "metadata": {},
   "source": [
    "### 장르 폴더 리스트 만들기"
   ]
  },
  {
   "cell_type": "code",
   "execution_count": 11,
   "metadata": {},
   "outputs": [
    {
     "name": "stdout",
     "output_type": "stream",
     "text": [
      "['Electronic', 'Experimental', 'Folk', 'Hip-Hop', 'Instrumental', 'International', 'Pop', 'Rock']\n"
     ]
    }
   ],
   "source": [
    "f_list = os.listdir(cwd +'/last_img_data')\n",
    "print(f_list)"
   ]
  },
  {
   "cell_type": "markdown",
   "metadata": {},
   "source": [
    "### 스플릿 데이터 폴더 생성"
   ]
  },
  {
   "cell_type": "code",
   "execution_count": 20,
   "metadata": {},
   "outputs": [],
   "source": [
    "os.mkdir(cwd + '/split_data')\n",
    "os.mkdir(cwd + '/split_data' + '/train')\n",
    "os.mkdir(cwd + '/split_data' + '/val')\n",
    "os.mkdir(cwd + '/split_data' + '/test')"
   ]
  },
  {
   "cell_type": "code",
   "execution_count": 21,
   "metadata": {},
   "outputs": [],
   "source": [
    "for folder in f_list:\n",
    "    if(not os.path.isdir(cwd + '/split_data' + '/train/' + folder)):\n",
    "        os.mkdir(cwd + '/split_data' + '/train/' + folder)\n",
    "        os.mkdir(cwd + '/split_data' + '/val/' + folder)\n",
    "        os.mkdir(cwd + '/split_data' + '/test/' + folder)"
   ]
  },
  {
   "cell_type": "markdown",
   "metadata": {},
   "source": [
    "### train : validaion : test = 80 : 10 : 10 파일이동"
   ]
  },
  {
   "cell_type": "code",
   "execution_count": 22,
   "metadata": {},
   "outputs": [],
   "source": [
    "import numpy as np"
   ]
  },
  {
   "cell_type": "code",
   "execution_count": 59,
   "metadata": {},
   "outputs": [
    {
     "name": "stdout",
     "output_type": "stream",
     "text": [
      "999\n",
      "Electronic_val_set_size : 100\n",
      "Electronic_test_set_size : 100\n",
      "Electronic_train_set_size : 799\n",
      "999\n",
      "Experimental_val_set_size : 100\n",
      "Experimental_test_set_size : 100\n",
      "Experimental_train_set_size : 799\n",
      "1000\n",
      "Folk_val_set_size : 100\n",
      "Folk_test_set_size : 100\n",
      "Folk_train_set_size : 800\n",
      "1000\n",
      "Hip-Hop_val_set_size : 100\n",
      "Hip-Hop_test_set_size : 100\n",
      "Hip-Hop_train_set_size : 800\n",
      "1000\n",
      "Instrumental_val_set_size : 100\n",
      "Instrumental_test_set_size : 100\n",
      "Instrumental_train_set_size : 800\n",
      "1000\n",
      "International_val_set_size : 100\n",
      "International_test_set_size : 100\n",
      "International_train_set_size : 800\n",
      "1000\n",
      "Pop_val_set_size : 100\n",
      "Pop_test_set_size : 100\n",
      "Pop_train_set_size : 800\n",
      "999\n",
      "Rock_val_set_size : 100\n",
      "Rock_test_set_size : 100\n",
      "Rock_train_set_size : 799\n"
     ]
    }
   ],
   "source": [
    "for folder in f_list:\n",
    "    file_list = os.listdir('./last_img_data/' + folder)\n",
    "    num_file_list = np.array(file_list)\n",
    "    np.random.shuffle(num_file_list)\n",
    "    print(len(num_file_list))\n",
    "    validation_set_list = num_file_list[:100]\n",
    "    test_set_list = num_file_list[100:200]\n",
    "    train_set_list = num_file_list[200:]\n",
    "    \n",
    "    print(folder + '_val_set_size : ' + str(len(validation_set_list)))\n",
    "    print(folder + '_test_set_size : ' + str(len(test_set_list)))\n",
    "    print(folder + '_train_set_size : ' + str(len(train_set_list)))\n",
    "    for file in validation_set_list:\n",
    "        os.rename('./last_img_data/' + folder + '/' + file, './split_data/val/' + folder + '/' + file)\n",
    "    for file in test_set_list:\n",
    "        os.rename('./last_img_data/' + folder + '/' + file, './split_data/test/' + folder + '/' + file)\n",
    "    for file in train_set_list:\n",
    "        os.rename('./last_img_data/' + folder + '/' + file, './split_data/train/' + folder + '/' + file)"
   ]
  },
  {
   "cell_type": "code",
   "execution_count": null,
   "metadata": {},
   "outputs": [],
   "source": []
  }
 ],
 "metadata": {
  "kernelspec": {
   "display_name": "Python 3",
   "language": "python",
   "name": "python3"
  },
  "language_info": {
   "codemirror_mode": {
    "name": "ipython",
    "version": 3
   },
   "file_extension": ".py",
   "mimetype": "text/x-python",
   "name": "python",
   "nbconvert_exporter": "python",
   "pygments_lexer": "ipython3",
   "version": "3.6.5"
  }
 },
 "nbformat": 4,
 "nbformat_minor": 2
}
